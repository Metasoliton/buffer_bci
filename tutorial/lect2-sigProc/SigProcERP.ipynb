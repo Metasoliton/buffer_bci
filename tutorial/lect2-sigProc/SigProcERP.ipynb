{
 "cells": [
  {
   "cell_type": "code",
   "execution_count": null,
   "metadata": {},
   "outputs": [],
   "source": [
    "import os, sys\n",
    "# Path of the folder containing the buffer client                                              \n",
    "try:\n",
    "    pydir=os.path.dirname(__file__)\n",
    "except:\n",
    "    pydir=os.getcwd()\n",
    "\n",
    "sigProcPath = '../../python/signalProc'\n",
    "sys.path.append(os.path.join(os.path.abspath(pydir),sigProcPath))\n",
    "import bufhelp\n",
    "import preproc\n",
    "import linear\n",
    "plottingPath= '../../python/plotting'\n",
    "sys.path.append(os.path.join(os.path.abspath(pydir),plottingPath))\n",
    "from image3d import *\n",
    "from scipy.io import loadmat\n",
    "%pdb\n",
    "%matplotlib inline\n",
    "%load_ext autoreload\n",
    "%autoreload 2"
   ]
  },
  {
   "cell_type": "code",
   "execution_count": null,
   "metadata": {},
   "outputs": [],
   "source": [
    "#load the datafile, and extract the variables                                                  \n",
    "data=loadmat('ERPdata.mat')\n",
    "X     =data['X']; print(\"X= [channels x timepoints x trials]\");print(X.shape)\n",
    "Y     =data['Y'].reshape(-1); print(\"Y=[trials]\");print(Y.shape)\n",
    "fs    =data['fs'][0][0]\n",
    "Cnames=data['Cnames'].reshape(-1); \n",
    "Cnames=np.array([item for sublist in Cnames for item in sublist]) #flatten the list of lists of names and make array\n",
    "print(\"Channel names : \");print(Cnames)\n",
    "Cpos  =data['Cpos']; print(\"Cpos= [ 3 x channels]\");print(Cpos.shape);"
   ]
  },
  {
   "cell_type": "code",
   "execution_count": null,
   "metadata": {},
   "outputs": [],
   "source": [
    "# plot the data                                                                                \n",
    "image3d(X[:,:,1:3],0,plotpos=Cpos);"
   ]
  },
  {
   "cell_type": "code",
   "execution_count": null,
   "metadata": {},
   "outputs": [],
   "source": [
    "# plot the class averages\n",
    "erp=np.stack((X[:,:,Y>0].mean(2),X[:,:,Y<=0].mean(2)),2) #compute the ERP\n",
    "image3d(erp,0,plotpos=Cpos,xvals=Cnames); # plot the ERPs\n"
   ]
  },
  {
   "cell_type": "code",
   "execution_count": null,
   "metadata": {},
   "outputs": [],
   "source": [
    "# define some utility functions to simplify plotting of data\n",
    "ylabel='time (s)'\n",
    "yvals =range(0,X.shape[1])/fs  # element labels for 2nd dim of X\n",
    "\n",
    "def plotTrials(X,trls):\n",
    "    'Plot the single-trial data'\n",
    "    global Cnames, Cpos, ylabel, yvals\n",
    "    image3d(X[:,:,1:3],0,plotpos=Cpos,xvals=Cnames,ylabel=ylabel,yvals=yvals)\n",
    "\n",
    "def plotERP(X,Y):\n",
    "    'plot the class averages'\n",
    "    global Cnames, Cpos, ylabel, yvals\n",
    "    erp=np.stack((X[:,:,Y>0].mean(2),X[:,:,Y<=0].mean(2)),2) #compute the ERP\n",
    "    image3d(erp,0,plotpos=Cpos,xvals=Cnames,ylabel=ylabel,yvals=yvals) # plot the ERPs\n",
    "\n",
    "def updatePlots():\n",
    "    global X,Y\n",
    "    # Plot the raw data\n",
    "    fig=plt.figure(1,figsize=(12, 12))\n",
    "    plotTrials(X,range(3)) # single trial\n",
    "\n",
    "    fig=plt.figure(2,figsize=(12, 12))\n",
    "    plotERP(X,Y) # class averages"
   ]
  },
  {
   "cell_type": "code",
   "execution_count": null,
   "metadata": {},
   "outputs": [],
   "source": [
    "# plot a subset of single-trials\n",
    "plt.figure(1,figsize=(12, 12));\n",
    "plotTrials(X,range(3));"
   ]
  },
  {
   "cell_type": "code",
   "execution_count": null,
   "metadata": {},
   "outputs": [],
   "source": [
    "# plot the grand average's per condition\n",
    "plt.figure(2,figsize=(12, 12))\n",
    "plotERP(X,Y);"
   ]
  },
  {
   "cell_type": "code",
   "execution_count": null,
   "metadata": {},
   "outputs": [],
   "source": [
    "#-------------------------------------------------------------------\n",
    "#  Run the standard pre-processing and analysis pipeline\n",
    "# 1: detrend\n",
    "X        = preproc.detrend(X)\n",
    "updatePlots();"
   ]
  },
  {
   "cell_type": "code",
   "execution_count": null,
   "metadata": {
    "scrolled": true
   },
   "outputs": [],
   "source": [
    "# 2: bad-channel removal\n",
    "goodch, badch = preproc.outlierdetection(X);\n",
    "X = X[goodch,:,:];\n",
    "Cnames=Cnames[goodch];\n",
    "Cpos=Cpos[:,goodch];\n",
    "updatePlots()"
   ]
  },
  {
   "cell_type": "code",
   "execution_count": null,
   "metadata": {},
   "outputs": [],
   "source": [
    "# 3: apply spatial filter\n",
    "X        = preproc.spatialfilter(X,type='car')\n",
    "updatePlots();"
   ]
  },
  {
   "cell_type": "code",
   "execution_count": null,
   "metadata": {},
   "outputs": [],
   "source": [
    "# 6 : bad-trial removal, trials in dim=2\n",
    "goodtr, badtr = preproc.outlierdetection(X,dim=2)\n",
    "X = X[:,:,goodtr]\n",
    "Y = Y[goodtr]\n",
    "updatePlots()"
   ]
  },
  {
   "cell_type": "code",
   "execution_count": null,
   "metadata": {},
   "outputs": [],
   "source": [
    "# 7: train linear least squares classifier, with cross-validation\n",
    "import sklearn\n",
    "clsfr = sklearn.linear_model.RidgeCV(store_cv_values=True)\n",
    "X2d = np.reshape(X,(-1,X.shape[2])).T # sklearn needs x to be [nTrials x nFeatures]\n",
    "clsfr.fit(X2d,Y)\n",
    "print(\"MSSE=%g\"%np.mean(clsfr.cv_values_))"
   ]
  },
  {
   "cell_type": "code",
   "execution_count": null,
   "metadata": {},
   "outputs": [],
   "source": [
    "# plot the classifier weight vector\n",
    "W = clsfr.coef_\n",
    "W = np.reshape(clsfr.coef_,(X.shape[1],X.shape[0])) \n",
    "image3d(W,0,plotpos=Cpos,xvals=Cnames);"
   ]
  },
  {
   "cell_type": "code",
   "execution_count": null,
   "metadata": {},
   "outputs": [],
   "source": []
  },
  {
   "cell_type": "code",
   "execution_count": null,
   "metadata": {},
   "outputs": [],
   "source": []
  }
 ],
 "metadata": {
  "kernelspec": {
   "display_name": "Python 3",
   "language": "python",
   "name": "python3"
  },
  "language_info": {
   "codemirror_mode": {
    "name": "ipython",
    "version": 3
   },
   "file_extension": ".py",
   "mimetype": "text/x-python",
   "name": "python",
   "nbconvert_exporter": "python",
   "pygments_lexer": "ipython3",
   "version": "3.7.1"
  }
 },
 "nbformat": 4,
 "nbformat_minor": 2
}
